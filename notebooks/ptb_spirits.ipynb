{
 "cells": [
  {
   "cell_type": "code",
   "execution_count": null,
   "metadata": {},
   "outputs": [],
   "source": [
    "from atakl.transform.siganos import *"
   ]
  },
  {
   "cell_type": "code",
   "execution_count": null,
   "metadata": {},
   "outputs": [],
   "source": [
    "beth_file = \"D:/.temp/.dev/akl/PT Beverage Spirits.xlsx\"\n",
    "filename = Path(beth_file).stem\n",
    "\n",
    "a = Siganos(f\"{beth_file}@Διανομή\",\n",
    "            \"D:/.temp/.dev/akl/Region_Costs.xlsx\",\n",
    "            f\"D:/.temp/.dev/akl/{filename}_Processed.xlsx\",\n",
    "            mode=\"CLI\")\n",
    "\n",
    "og = pd.read_excel(beth_file, sheet_name='Διανομή')[[\"ΠΑΡΑΓΓΕΛΙΑ\", \"Σύνολο Χρέωσης Διανομής\"]]"
   ]
  },
  {
   "cell_type": "code",
   "execution_count": null,
   "metadata": {},
   "outputs": [],
   "source": [
    "a.validate()"
   ]
  },
  {
   "cell_type": "code",
   "execution_count": null,
   "metadata": {},
   "outputs": [],
   "source": [
    "a.process()\n",
    "a.export()"
   ]
  },
  {
   "cell_type": "code",
   "execution_count": null,
   "metadata": {},
   "outputs": [],
   "source": [
    "merged = a.check_data.merge(og, left_on=\"Παραγγελία\", right_on=\"ΠΑΡΑΓΓΕΛΙΑ\").drop([\"ΠΑΡΑΓΓΕΛΙΑ\"], axis=1).rename(columns={\"ΧΡΕΩΣΗ ΔΙΑΝΟΜΗΣ ΚΟΛΑ\": \"Bethani\"})\n",
    "merged['diff'] = merged['Bethani'] - merged[final_dist_charge]\n",
    "merged['diff'] = merged['diff'].round(2)\n",
    "merged.to_excel(f\"D:/.temp/.dev/akl/{filename}_Check.xlsx\")"
   ]
  }
 ],
 "metadata": {
  "language_info": {
   "name": "python"
  },
  "orig_nbformat": 4
 },
 "nbformat": 4,
 "nbformat_minor": 2
}
