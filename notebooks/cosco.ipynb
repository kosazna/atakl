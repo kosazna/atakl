{
 "cells": [
  {
   "cell_type": "code",
   "execution_count": 1,
   "source": [
    "from atakl.transform.cosco_infoquest import *"
   ],
   "outputs": [],
   "metadata": {}
  },
  {
   "cell_type": "code",
   "execution_count": 7,
   "source": [
    "a = CoscoInfoquest(\"D:/.temp/.dev/akl/V_invoicing_Cosco_Infoquest_Aspropirgos_08_2021.xlsx@Stock_out\",\r\n",
    "                   \"D:/.temp/.dev/akl/Region_Costs.xlsx\",\r\n",
    "                   \"D:/.temp/.dev/akl/V_invoicing_Cosco_Infoquest_Aspropirgos_08_2021_Processed.xlsx\",\r\n",
    "                   mode=\"CLI\")\r\n",
    "\r\n",
    "og = pd.read_excel(\"D:/.temp/.dev/akl/V_invoicing_Cosco_Infoquest_Aspropirgos_08_2021.xlsx\", sheet_name=\"Stock_out\")[[\"Κωδικός Παραγγελίας\", \"ΣΥΝΟΛΟ ΧΡΕΩΣΗΣ ΔΙΑΝΟΜΗΣ\"]]\r\n"
   ],
   "outputs": [],
   "metadata": {}
  },
  {
   "cell_type": "code",
   "execution_count": 8,
   "source": [
    "a.process()\r\n",
    "a.export()"
   ],
   "outputs": [],
   "metadata": {}
  },
  {
   "cell_type": "code",
   "execution_count": 9,
   "source": [
    "merged = a.data.merge(og,\r\n",
    "                      left_on=\"Κωδικός Παραγγελίας\",\r\n",
    "                      right_on=\"Κωδικός Παραγγελίας\")\r\n",
    "merged.to_excel(\r\n",
    "    \"D:/.temp/.dev/akl/V_invoicing_Cosco_Infoquest_Aspropirgos_08_2021_Check.xlsx\")\r\n"
   ],
   "outputs": [],
   "metadata": {}
  }
 ],
 "metadata": {
  "orig_nbformat": 4,
  "language_info": {
   "name": "python",
   "version": "3.8.12",
   "mimetype": "text/x-python",
   "codemirror_mode": {
    "name": "ipython",
    "version": 3
   },
   "pygments_lexer": "ipython3",
   "nbconvert_exporter": "python",
   "file_extension": ".py"
  },
  "kernelspec": {
   "name": "python3",
   "display_name": "Python 3.8.12 64-bit ('atakl_dev': conda)"
  },
  "interpreter": {
   "hash": "2c1aa577872f88f169d17bfe33b6b30cfbb718b1b8f65060fd4468a214436a3c"
  }
 },
 "nbformat": 4,
 "nbformat_minor": 2
}