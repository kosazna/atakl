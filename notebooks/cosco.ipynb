{
 "cells": [
  {
   "cell_type": "code",
   "execution_count": 1,
   "metadata": {},
   "outputs": [],
   "source": [
    "from atakl.transform.cosco_infoquest import *"
   ]
  },
  {
   "cell_type": "code",
   "execution_count": 2,
   "metadata": {},
   "outputs": [],
   "source": [
    "a = CoscoInfoquest(\"D:/.temp/.dev/akl/cosco_new.xlsx@Stock_out\",\n",
    "                   \"D:/.temp/.dev/akl/Region_Costs.xlsx\",\n",
    "                   \"D:/.temp/.dev/akl/V_invoicing_Cosco_Infoquest_Aspropirgos_08_2021_Processed.xlsx\",\n",
    "                   mode=\"CLI\")\n",
    "\n",
    "og = pd.read_excel(\"D:/.temp/.dev/akl/cosco_new.xlsx\", dtype='string', sheet_name=\"Stock_out\")[[\"Κωδικός Παραγγελίας\", \"ΣΥΝΟΛΟ ΧΡΕΩΣΗΣ ΔΙΑΝΟΜΗΣ\"]]\n"
   ]
  },
  {
   "cell_type": "code",
   "execution_count": 3,
   "metadata": {},
   "outputs": [
    {
     "name": "stdout",
     "output_type": "stream",
     "text": [
      "[INFO] - Processing...\n",
      "[ERROR] - 'Ν.ΛΑΚΩΝΙΑΣ'\n",
      "[ERROR] - 'Ν.ΛΑΚΩΝΙΑΣ'\n",
      "[ERROR] - 'Ν.ΛΑΚΩΝΙΑΣ'\n",
      "[ERROR] - 'Ν.ΛΑΚΩΝΙΑΣ'\n",
      "[INFO] - Data Process Complete: [97] records\n",
      "\n",
      "\n",
      "\n",
      "[INFO] - Saving data...\n",
      "[INFO] - Exported file: D:/.temp/.dev/akl/V_invoicing_Cosco_Infoquest_Aspropirgos_08_2021_Processed.xlsx\n",
      "\n",
      "\n"
     ]
    }
   ],
   "source": [
    "a.process()\n",
    "a.export()"
   ]
  },
  {
   "cell_type": "code",
   "execution_count": 4,
   "metadata": {},
   "outputs": [
    {
     "data": {
      "text/html": [
       "<div>\n",
       "<style scoped>\n",
       "    .dataframe tbody tr th:only-of-type {\n",
       "        vertical-align: middle;\n",
       "    }\n",
       "\n",
       "    .dataframe tbody tr th {\n",
       "        vertical-align: top;\n",
       "    }\n",
       "\n",
       "    .dataframe thead th {\n",
       "        text-align: right;\n",
       "    }\n",
       "</style>\n",
       "<table border=\"1\" class=\"dataframe\">\n",
       "  <thead>\n",
       "    <tr style=\"text-align: right;\">\n",
       "      <th></th>\n",
       "      <th>Κωδικός Παραγγελίας</th>\n",
       "      <th>ΣΥΝΟΛΟ ΧΡΕΩΣΗΣ ΔΙΑΝΟΜΗΣ</th>\n",
       "    </tr>\n",
       "  </thead>\n",
       "  <tbody>\n",
       "    <tr>\n",
       "      <th>0</th>\n",
       "      <td>2110492884</td>\n",
       "      <td>0</td>\n",
       "    </tr>\n",
       "    <tr>\n",
       "      <th>1</th>\n",
       "      <td>2110492811</td>\n",
       "      <td>7.5</td>\n",
       "    </tr>\n",
       "    <tr>\n",
       "      <th>2</th>\n",
       "      <td>2110493740</td>\n",
       "      <td>6</td>\n",
       "    </tr>\n",
       "    <tr>\n",
       "      <th>3</th>\n",
       "      <td>2110493976</td>\n",
       "      <td>7.58</td>\n",
       "    </tr>\n",
       "    <tr>\n",
       "      <th>4</th>\n",
       "      <td>2110494288</td>\n",
       "      <td>6</td>\n",
       "    </tr>\n",
       "    <tr>\n",
       "      <th>...</th>\n",
       "      <td>...</td>\n",
       "      <td>...</td>\n",
       "    </tr>\n",
       "    <tr>\n",
       "      <th>94</th>\n",
       "      <td>2110535434</td>\n",
       "      <td>6</td>\n",
       "    </tr>\n",
       "    <tr>\n",
       "      <th>95</th>\n",
       "      <td>2110539697</td>\n",
       "      <td>15.7586</td>\n",
       "    </tr>\n",
       "    <tr>\n",
       "      <th>96</th>\n",
       "      <td>2110541090</td>\n",
       "      <td>7.5</td>\n",
       "    </tr>\n",
       "    <tr>\n",
       "      <th>97</th>\n",
       "      <td>&lt;NA&gt;</td>\n",
       "      <td>&lt;NA&gt;</td>\n",
       "    </tr>\n",
       "    <tr>\n",
       "      <th>98</th>\n",
       "      <td>&lt;NA&gt;</td>\n",
       "      <td>1024.2680500000001</td>\n",
       "    </tr>\n",
       "  </tbody>\n",
       "</table>\n",
       "<p>99 rows × 2 columns</p>\n",
       "</div>"
      ],
      "text/plain": [
       "   Κωδικός Παραγγελίας ΣΥΝΟΛΟ ΧΡΕΩΣΗΣ ΔΙΑΝΟΜΗΣ\n",
       "0           2110492884                       0\n",
       "1           2110492811                     7.5\n",
       "2           2110493740                       6\n",
       "3           2110493976                    7.58\n",
       "4           2110494288                       6\n",
       "..                 ...                     ...\n",
       "94          2110535434                       6\n",
       "95          2110539697                 15.7586\n",
       "96          2110541090                     7.5\n",
       "97                <NA>                    <NA>\n",
       "98                <NA>      1024.2680500000001\n",
       "\n",
       "[99 rows x 2 columns]"
      ]
     },
     "execution_count": 4,
     "metadata": {},
     "output_type": "execute_result"
    }
   ],
   "source": [
    "og"
   ]
  },
  {
   "cell_type": "code",
   "execution_count": 5,
   "metadata": {},
   "outputs": [],
   "source": [
    "merged = a.data.merge(og,\n",
    "                      left_on=\"Κωδικός Παραγγελίας\",\n",
    "                      right_on=\"Κωδικός Παραγγελίας\")\n",
    "merged.to_excel(\n",
    "    \"D:/.temp/.dev/akl/V_invoicing_Cosco_Infoquest_Aspropirgos_08_2021_Check.xlsx\")\n"
   ]
  },
  {
   "cell_type": "code",
   "execution_count": null,
   "metadata": {},
   "outputs": [],
   "source": [
    "import os\n",
    "from pathlib import Path\n",
    "\n",
    "os.startfile(Path(\"D:/.temp/.dev/akl/V_invoicing_Cosco_Infoquest_Aspropirgos_08_2021.xlsx@Stock_out\"))"
   ]
  }
 ],
 "metadata": {
  "interpreter": {
   "hash": "144cfd71d64eecd6aeeecc2c7583da2e10747ac202ae9d6b5b5020a7ee39d627"
  },
  "kernelspec": {
   "display_name": "Python 3.8.12 ('atakl_dev')",
   "language": "python",
   "name": "python3"
  },
  "language_info": {
   "codemirror_mode": {
    "name": "ipython",
    "version": 3
   },
   "file_extension": ".py",
   "mimetype": "text/x-python",
   "name": "python",
   "nbconvert_exporter": "python",
   "pygments_lexer": "ipython3",
   "version": "3.8.12"
  },
  "orig_nbformat": 4
 },
 "nbformat": 4,
 "nbformat_minor": 2
}
