{
 "cells": [
  {
   "cell_type": "code",
   "execution_count": 1,
   "source": [
    "import pandas as pd\r\n",
    "from pprint import pprint\r\n",
    "import numpy as np\r\n",
    "\r\n",
    "from atakl.transform.alexandrion import *"
   ],
   "outputs": [],
   "metadata": {}
  },
  {
   "cell_type": "code",
   "execution_count": 2,
   "source": [
    "a = Alexandrion(\"D:/.temp/.dev/akl/Alexandrion_August_2021.xlsx\", \"D:/.temp/.dev/akl/Region_Costs.xlsx\")\r\n",
    "a.output = \"D:/.temp/.dev/akl/Alexandrion_August_2021_processed.xlsx\""
   ],
   "outputs": [],
   "metadata": {}
  },
  {
   "cell_type": "code",
   "execution_count": 5,
   "source": [
    "og = pd.read_excel(\"D:/.temp/.dev/akl/Alexandrion_August_2021.xlsx\")[[\"Κωδικός Παραγγελίας\", \"ΧΡΕΩΣΗ ΔΙΑΝΟΜΗΣ ΚΟΛΑ\"]]"
   ],
   "outputs": [],
   "metadata": {}
  },
  {
   "cell_type": "code",
   "execution_count": null,
   "source": [
    "a.except_areas"
   ],
   "outputs": [],
   "metadata": {}
  },
  {
   "cell_type": "code",
   "execution_count": null,
   "source": [
    "a.costs.loc[(a.costs.index == \"ΑΤΤΙΚΗ\") & (\r\n",
    "                a.costs[\"Κατηγορία Περιοχής\"] == 0), elaxisti]"
   ],
   "outputs": [],
   "metadata": {}
  },
  {
   "cell_type": "code",
   "execution_count": 3,
   "source": [
    "a.process()\r\n"
   ],
   "outputs": [],
   "metadata": {}
  },
  {
   "cell_type": "code",
   "execution_count": 4,
   "source": [
    "a.export()"
   ],
   "outputs": [],
   "metadata": {}
  },
  {
   "cell_type": "code",
   "execution_count": null,
   "source": [
    "for i in a.data.itertuples():\r\n",
    "    print(a.data.loc[i.Index, \"Ξύλα_παλετών\"])"
   ],
   "outputs": [],
   "metadata": {}
  },
  {
   "cell_type": "code",
   "execution_count": null,
   "source": [
    "a.data['BETH'] = 0\r\n",
    "\r\n"
   ],
   "outputs": [],
   "metadata": {}
  },
  {
   "cell_type": "code",
   "execution_count": 6,
   "source": [
    "merged = a.data.merge(og, left_on=\"Κωδικός Παραγγελίας\", right_on=\"Κωδικός Παραγγελίας\")\r\n",
    "merged.to_excel(\"D:/.temp/.dev/akl/Alexandrion_August_2021_Check.xlsx\")"
   ],
   "outputs": [],
   "metadata": {}
  },
  {
   "cell_type": "code",
   "execution_count": null,
   "source": [
    "a.data[\"Χρέωση Διανομής Κόλα\"].sum()"
   ],
   "outputs": [],
   "metadata": {}
  },
  {
   "cell_type": "code",
   "execution_count": null,
   "source": [
    "pals = a.data.loc[a.data[kodikos_paraggelias].str.startswith(\"PAL\")][[kodikos_arxikis_paraggelias, ksila_paleton]]\r\n",
    "pals = pals.rename(columns={kodikos_arxikis_paraggelias: 'kodikos', ksila_paleton:'ksila'})\r\n",
    "pals"
   ],
   "outputs": [],
   "metadata": {}
  },
  {
   "cell_type": "code",
   "execution_count": null,
   "source": [
    "pals"
   ],
   "outputs": [],
   "metadata": {}
  },
  {
   "cell_type": "code",
   "execution_count": null,
   "source": [
    "c = a.data.merge(pals, how=\"left\", left_on=kodikos_paraggelias, right_on='kodikos').drop(\"kodikos\", axis=1)\r\n",
    "c['ksila'] = c['ksila'].fillna(0).astype(int)\r\n",
    "c"
   ],
   "outputs": [],
   "metadata": {}
  },
  {
   "cell_type": "code",
   "execution_count": null,
   "source": [
    "b = [0, 0, 1, 0]\r\n",
    "list(filter(lambda x: x!=0, b))"
   ],
   "outputs": [],
   "metadata": {}
  },
  {
   "cell_type": "code",
   "execution_count": null,
   "source": [
    "a.costs.loc[(a.costs.index == \"ΔΩΔΕΚΑΝΗΣΑ\") & (\r\n",
    "                a.costs[\"Κατηγορία Περιοχής\"] == 1), 'Κιβώτιο']"
   ],
   "outputs": [],
   "metadata": {}
  },
  {
   "cell_type": "code",
   "execution_count": null,
   "source": [
    "a.export()"
   ],
   "outputs": [],
   "metadata": {}
  },
  {
   "cell_type": "code",
   "execution_count": null,
   "source": [
    "a.output"
   ],
   "outputs": [],
   "metadata": {}
  },
  {
   "cell_type": "code",
   "execution_count": null,
   "source": [
    "a.data.dtypes"
   ],
   "outputs": [],
   "metadata": {}
  },
  {
   "cell_type": "code",
   "execution_count": null,
   "source": [
    "costs = costs.set_index(\"Γεωγραφικός Τομέας\")"
   ],
   "outputs": [],
   "metadata": {}
  },
  {
   "cell_type": "code",
   "execution_count": null,
   "source": [
    "gb = costs.groupby(\"Γεωγραφικός Τομέας\")[\"Περιοχή Παράδοσης\"].agg([\"unique\"])\r\n",
    "gb"
   ],
   "outputs": [],
   "metadata": {}
  },
  {
   "cell_type": "code",
   "execution_count": null,
   "source": [
    "ale = pd.read_excel(\"D:/.temp/.dev/akl/Alexandrion_August_2021.xlsx\")\r\n",
    "costs = pd.read_excel(\"D:/.temp/.dev/akl/Region_Costs.xlsx\", sheet_name=\"Alexandrion\")"
   ],
   "outputs": [],
   "metadata": {}
  },
  {
   "cell_type": "code",
   "execution_count": null,
   "source": [
    "costs.loc[\"ΔΩΔΕΚΑΝΗΣΑ\", \"Περιοχή Παράδοσης\"].tolist()"
   ],
   "outputs": [],
   "metadata": {}
  },
  {
   "cell_type": "code",
   "execution_count": null,
   "source": [
    "ale.head()"
   ],
   "outputs": [],
   "metadata": {}
  },
  {
   "cell_type": "code",
   "execution_count": null,
   "source": [
    "order = ale[\"Κωδικός Παραγγελίας\"]\r\n",
    "og_order = ale[\"Κωδικός Αρχικής Παραγγελίας\"]\r\n",
    "order_idxs = order.loc[order.isin(og_order)].index\r\n",
    "og_order_idxs = og_order.loc[og_order.isin(order)].index"
   ],
   "outputs": [],
   "metadata": {}
  },
  {
   "cell_type": "code",
   "execution_count": null,
   "source": [
    "ale.loc[ale[\"Κωδικός Αρχικής Παραγγελίας\"] == \"ΠΔΣ-Χ-000147\", \"Ξύλα Παλέτας\"]"
   ],
   "outputs": [],
   "metadata": {}
  },
  {
   "cell_type": "code",
   "execution_count": null,
   "source": [
    "def unique_from_groupby(dataframe, groupby_key, agg_key):\r\n",
    "    gb = dataframe.groupby(groupby_key)[agg_key].agg([\"unique\"])\r\n",
    "\r\n",
    "    exceptions = {}\r\n",
    "\r\n",
    "    for key in gb.index:\r\n",
    "        _unique = gb.loc[key, \"unique\"].tolist()\r\n",
    "        unique = list(filter(lambda elm: isinstance(elm, str), _unique))\r\n",
    "\r\n",
    "        if unique:\r\n",
    "            exceptions[str(key)] = unique\r\n",
    "\r\n",
    "    return exceptions"
   ],
   "outputs": [],
   "metadata": {}
  },
  {
   "cell_type": "code",
   "execution_count": null,
   "source": [
    "unique_from_groupby(costs, \"Γεωγραφικός Τομέας\", \"Περιοχή Παράδοσης\")"
   ],
   "outputs": [],
   "metadata": {}
  },
  {
   "cell_type": "code",
   "execution_count": null,
   "source": [
    "special = pd.read_excel(\"D:/.temp/.dev/akl/Region_Costs - Copy.xlsx\", sheet_name=\"Alexandrion-Special Areas\")\r\n",
    "special"
   ],
   "outputs": [],
   "metadata": {}
  },
  {
   "cell_type": "code",
   "execution_count": null,
   "source": [
    "exceptions= {}\r\n",
    "for col in special.columns:\r\n",
    "    region, cat = col.split('_')\r\n",
    "    _unique = special[col].tolist()\r\n",
    "    unique = list(filter(lambda elm: isinstance(elm, str), _unique))\r\n",
    "    if region in exceptions:\r\n",
    "        exceptions[region][int(cat)] = unique\r\n",
    "    else:\r\n",
    "        exceptions[region] = {int(cat): unique}"
   ],
   "outputs": [],
   "metadata": {}
  },
  {
   "cell_type": "code",
   "execution_count": null,
   "source": [
    "def area_props(region, subregion=None):\r\n",
    "    if region in exceptions:\r\n",
    "        for area, cat_areas in exceptions.items():\r\n",
    "            for cat_id, subareas in cat_areas.items():\r\n",
    "                for subarea in subareas:\r\n",
    "                    if subarea in subregion:\r\n",
    "                        return area, cat_id\r\n",
    "    else:\r\n",
    "        return region, 0\r\n"
   ],
   "outputs": [],
   "metadata": {}
  },
  {
   "cell_type": "code",
   "execution_count": null,
   "source": [
    "area_props(\"ΔΩΔΕΚΑΝΗΣΑ\", \"ΚΩΣ koy\")"
   ],
   "outputs": [],
   "metadata": {}
  },
  {
   "cell_type": "code",
   "execution_count": null,
   "source": [
    "exceptions"
   ],
   "outputs": [],
   "metadata": {}
  }
 ],
 "metadata": {
  "orig_nbformat": 4,
  "language_info": {
   "name": "python",
   "version": "3.8.12",
   "mimetype": "text/x-python",
   "codemirror_mode": {
    "name": "ipython",
    "version": 3
   },
   "pygments_lexer": "ipython3",
   "nbconvert_exporter": "python",
   "file_extension": ".py"
  },
  "kernelspec": {
   "name": "python3",
   "display_name": "Python 3.8.12 64-bit ('atakl': conda)"
  },
  "interpreter": {
   "hash": "a51ea40734f4b4c24a2aff5a1b104a9f9fbb8ffd431c228cef6b60b26a7894b5"
  }
 },
 "nbformat": 4,
 "nbformat_minor": 2
}