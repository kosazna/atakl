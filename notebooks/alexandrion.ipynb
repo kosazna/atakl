{
 "cells": [
  {
   "cell_type": "code",
   "execution_count": 1,
   "source": [
    "import pandas as pd\r\n",
    "from pprint import pprint\r\n",
    "import numpy as np\r\n",
    "\r\n",
    "from atakl.transform.alexandrion import *"
   ],
   "outputs": [],
   "metadata": {}
  },
  {
   "cell_type": "code",
   "execution_count": 2,
   "source": [
    "beth_file = \"D:/.temp/.dev/akl/alexandrion Ιουνιος.xlsx\"\r\n",
    "\r\n",
    "a = Alexandrion(beth_file,\r\n",
    "                \"D:/.temp/.dev/akl/Region_Costs.xlsx\",\r\n",
    "                \"D:/.temp/.dev/akl/alexandrion Ιουνιος_Processed.xlsx\",\r\n",
    "                mode=\"CLI\")\r\n",
    "\r\n",
    "og = pd.read_excel(beth_file)[[\"Κωδικός Παραγγελίας\", \"ΧΡΕΩΣΗ ΔΙΑΝΟΜΗΣ ΚΟΛΑ\"]]"
   ],
   "outputs": [],
   "metadata": {}
  },
  {
   "cell_type": "code",
   "execution_count": 3,
   "source": [
    "a.process()\r\n",
    "a.export()"
   ],
   "outputs": [
    {
     "output_type": "stream",
     "name": "stdout",
     "text": [
      "[INFO] - Processing...\n",
      "[INFO] - Data Process Complete: [47] records\n",
      "\n",
      "[INFO] - Saving data...\n",
      "[INFO] - Exported file: D:/.temp/.dev/akl/alexandrion Ιουνιος_Processed.xlsx\n"
     ]
    }
   ],
   "metadata": {}
  },
  {
   "cell_type": "code",
   "execution_count": 4,
   "source": [
    "merged = a.data.merge(og, left_on=\"Κωδικός Παραγγελίας\", right_on=\"Κωδικός Παραγγελίας\")\r\n",
    "merged.to_excel(\"D:/.temp/.dev/akl/alexandrion Ιουνιος_Check.xlsx\")"
   ],
   "outputs": [],
   "metadata": {}
  }
 ],
 "metadata": {
  "orig_nbformat": 4,
  "language_info": {
   "name": "python",
   "version": "3.8.12",
   "mimetype": "text/x-python",
   "codemirror_mode": {
    "name": "ipython",
    "version": 3
   },
   "pygments_lexer": "ipython3",
   "nbconvert_exporter": "python",
   "file_extension": ".py"
  },
  "kernelspec": {
   "name": "python3",
   "display_name": "Python 3.8.12 64-bit ('atakl_dev': conda)"
  },
  "interpreter": {
   "hash": "2c1aa577872f88f169d17bfe33b6b30cfbb718b1b8f65060fd4468a214436a3c"
  }
 },
 "nbformat": 4,
 "nbformat_minor": 2
}