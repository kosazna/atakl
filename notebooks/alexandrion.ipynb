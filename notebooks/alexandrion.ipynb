{
 "cells": [
  {
   "cell_type": "code",
   "execution_count": 1,
   "metadata": {},
   "outputs": [],
   "source": [
    "import pandas as pd\n",
    "from pprint import pprint\n",
    "import numpy as np\n",
    "\n",
    "from atakl.transform.alexandrion import *"
   ]
  },
  {
   "cell_type": "code",
   "execution_count": 2,
   "metadata": {},
   "outputs": [],
   "source": [
    "beth_file = \"D:/.temp/.dev/akl/Alexandrion_Nov.xlsx\"\n",
    "\n",
    "a = Alexandrion(beth_file,\n",
    "                \"D:/.temp/.dev/akl/Region_Costs.xlsx\",\n",
    "                \"D:/.temp/.dev/akl/Alexandrion_Nov_Processed.xlsx\",\n",
    "                mode=\"CLI\")\n",
    "\n",
    "og = pd.read_excel(beth_file)[[\"Κωδικός Παραγγελίας\", \"ΧΡΕΩΣΗ ΔΙΑΝΟΜΗΣ ΚΟΛΑ\"]]"
   ]
  },
  {
   "cell_type": "code",
   "execution_count": 3,
   "metadata": {},
   "outputs": [
    {
     "name": "stdout",
     "output_type": "stream",
     "text": [
      "[INFO] - Processing...\n",
      "[INFO] - Data Process Complete: [98] records\n",
      "\n",
      "\n",
      "\n",
      "[INFO] - Saving data...\n",
      "[INFO] - Exported file: D:/.temp/.dev/akl/Alexandrion_Nov_Processed.xlsx\n",
      "\n",
      "\n"
     ]
    }
   ],
   "source": [
    "a.process()\n",
    "a.export()"
   ]
  },
  {
   "cell_type": "code",
   "execution_count": 4,
   "metadata": {},
   "outputs": [],
   "source": [
    "merged = a.data.merge(og, left_on=\"Κωδικός Παραγγελίας\", right_on=\"Κωδικός Παραγγελίας\")\n",
    "merged.to_excel(\"D:/.temp/.dev/akl/alexandrion Ιουνιος_Check.xlsx\")"
   ]
  }
 ],
 "metadata": {
  "interpreter": {
   "hash": "2c1aa577872f88f169d17bfe33b6b30cfbb718b1b8f65060fd4468a214436a3c"
  },
  "kernelspec": {
   "display_name": "Python 3.8.12 64-bit ('atakl_dev': conda)",
   "name": "python3"
  },
  "language_info": {
   "codemirror_mode": {
    "name": "ipython",
    "version": 3
   },
   "file_extension": ".py",
   "mimetype": "text/x-python",
   "name": "python",
   "nbconvert_exporter": "python",
   "pygments_lexer": "ipython3",
   "version": "3.8.12"
  },
  "orig_nbformat": 4
 },
 "nbformat": 4,
 "nbformat_minor": 2
}
