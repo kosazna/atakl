{
 "cells": [
  {
   "cell_type": "code",
   "execution_count": 1,
   "source": [
    "from atakl.transform.kitsanelis import *"
   ],
   "outputs": [],
   "metadata": {}
  },
  {
   "cell_type": "code",
   "execution_count": 2,
   "source": [
    "beth_file = \"D:/.temp/.dev/akl/Κιτσανέλης_Αύγουστος_2021.xlsx\"\r\n",
    "filename = Path(beth_file).stem\r\n",
    "\r\n",
    "a = Kitsanelis(f\"{beth_file}@Διανομή\",\r\n",
    "               \"D:/.temp/.dev/akl/Region_Costs.xlsx\",\r\n",
    "               f\"D:/.temp/.dev/akl/{filename}_Processed.xlsx\",\r\n",
    "               mode=\"CLI\")\r\n",
    "\r\n",
    "og = pd.read_excel(beth_file, sheet_name='Διανομή')[[\"Κωδικός Παραγγελίας\", \"Σύνολο Χρέωσης Διανομής\"]]\r\n"
   ],
   "outputs": [],
   "metadata": {}
  },
  {
   "cell_type": "code",
   "execution_count": 3,
   "source": [
    "a.process()\r\n",
    "a.export()"
   ],
   "outputs": [
    {
     "output_type": "stream",
     "name": "stdout",
     "text": [
      "[INFO] - Processing...\n",
      "[INFO] - Data Process Complete: [295] records\n",
      "\n",
      "[INFO] - Saving data...\n",
      "[INFO] - Exported file: D:/.temp/.dev/akl/Κιτσανέλης_Αύγουστος_2021_Processed.xlsx\n"
     ]
    }
   ],
   "metadata": {}
  },
  {
   "cell_type": "code",
   "execution_count": 4,
   "source": [
    "merged = a.data.merge(og, left_on=\"Κωδικός Παραγγελίας\", right_on=\"Κωδικός Παραγγελίας\")\r\n",
    "merged.to_excel(f\"D:/.temp/.dev/akl/{filename}_Check.xlsx\")"
   ],
   "outputs": [],
   "metadata": {}
  },
  {
   "cell_type": "code",
   "execution_count": null,
   "source": [
    "a.data"
   ],
   "outputs": [],
   "metadata": {}
  },
  {
   "cell_type": "code",
   "execution_count": null,
   "source": [
    "s = pd.read_excel(beth_file, sheet_name='Stock Out')[[\"Κωδικός Παραγγελίας\", \"Ατόφια Παλλέτα\"]].rename(columns={\"Κωδικός Παραγγελίας\": kodikos_paraggelias, \"Ατόφια Παλλέτα\": atofia_paleta})"
   ],
   "outputs": [],
   "metadata": {}
  },
  {
   "cell_type": "code",
   "execution_count": null,
   "source": [
    "pals_only = s.loc[s[atofia_paleta] > 0]\r\n",
    "pals_only[atofia_paleta] = pals_only[atofia_paleta].astype(int)\r\n",
    "pals_only"
   ],
   "outputs": [],
   "metadata": {}
  },
  {
   "cell_type": "code",
   "execution_count": null,
   "source": [
    "merged = a.data.merge(pals_only, how='left', left_on=\"Κωδικός Παραγγελίας\", right_on=\"Κωδικός_Παραγγελίας\")\r\n",
    "merged[atofia_paleta] = merged[atofia_paleta].fillna(0).astype(int)\r\n",
    "merged"
   ],
   "outputs": [],
   "metadata": {}
  },
  {
   "cell_type": "code",
   "execution_count": null,
   "source": [
    "merged.dtypes"
   ],
   "outputs": [],
   "metadata": {}
  }
 ],
 "metadata": {
  "orig_nbformat": 4,
  "language_info": {
   "name": "python",
   "version": "3.8.12",
   "mimetype": "text/x-python",
   "codemirror_mode": {
    "name": "ipython",
    "version": 3
   },
   "pygments_lexer": "ipython3",
   "nbconvert_exporter": "python",
   "file_extension": ".py"
  },
  "kernelspec": {
   "name": "python3",
   "display_name": "Python 3.8.12 64-bit ('atakl_dev': conda)"
  },
  "interpreter": {
   "hash": "2c1aa577872f88f169d17bfe33b6b30cfbb718b1b8f65060fd4468a214436a3c"
  }
 },
 "nbformat": 4,
 "nbformat_minor": 2
}