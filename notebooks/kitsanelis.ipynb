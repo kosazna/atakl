{
 "cells": [
  {
   "cell_type": "code",
   "execution_count": 1,
   "source": [
    "from atakl.transform.kitsanelis import *"
   ],
   "outputs": [],
   "metadata": {}
  },
  {
   "cell_type": "code",
   "execution_count": 28,
   "source": [
    "beth_file = \"D:/.temp/.dev/akl/Κιτσανέλης_Ιούνιος_2021.xlsx\"\r\n",
    "filename = Path(beth_file).stem\r\n",
    "\r\n",
    "a = Kitsanelis(f\"{beth_file}@Διανομή\",\r\n",
    "               \"D:/.temp/.dev/akl/Region_Costs.xlsx\",\r\n",
    "               f\"D:/.temp/.dev/akl/{filename}_Processed.xlsx\",\r\n",
    "               mode=\"CLI\")\r\n",
    "\r\n",
    "og = pd.read_excel(beth_file, sheet_name='Διανομή')[[\"Κωδικός Παραγγελίας\", \"Σύνολο Χρέωσης Διανομής\"]]\r\n"
   ],
   "outputs": [],
   "metadata": {}
  },
  {
   "cell_type": "code",
   "execution_count": 3,
   "source": [
    "a.process()\r\n",
    "a.export()"
   ],
   "outputs": [
    {
     "output_type": "stream",
     "name": "stdout",
     "text": [
      "[INFO] - Processing...\n",
      "[INFO] - Data Process Complete: [308] records\n",
      "\n",
      "[INFO] - Saving data...\n",
      "[INFO] - Exported file: D:/.temp/.dev/akl/Κιτσανέλης_Ιούνιος_2021_Processed.xlsx\n"
     ]
    }
   ],
   "metadata": {}
  },
  {
   "cell_type": "code",
   "execution_count": 9,
   "source": [
    "merged = a.check_data.merge(og, left_on=\"Κωδικός_Παραγγελίας\", right_on=\"Κωδικός Παραγγελίας\").drop([\"Κωδικός Παραγγελίας\", \"Τελική_Χρέωση\"], axis=1).rename(columns={\"Σύνολο Χρέωσης Διανομής\": \"Bethani\"})\r\n",
    "merged['diff'] = merged['Bethani'] - merged[\"Σύνολο_Χρέωσης_Διανομής\"]\r\n",
    "merged['diff'] = merged['diff'].round(2)\r\n",
    "merged.to_excel(f\"D:/.temp/.dev/akl/{filename}_Check.xlsx\")"
   ],
   "outputs": [],
   "metadata": {}
  },
  {
   "cell_type": "code",
   "execution_count": 30,
   "source": [
    "v = a.data.copy()"
   ],
   "outputs": [],
   "metadata": {}
  },
  {
   "cell_type": "code",
   "execution_count": 31,
   "source": [
    "v['kivotia_sum'] = a.data[kivotia_diafimistikou] + v[kivotia_ximou] + v[kivotia_6fialon] + v[kivotia_12fialon]"
   ],
   "outputs": [],
   "metadata": {}
  },
  {
   "cell_type": "code",
   "execution_count": 50,
   "source": [
    "must_pals = v.loc[v['kivotia_sum'] > 10, [kodikos_paraggelias]]\r\n",
    "must_pals"
   ],
   "outputs": [],
   "metadata": {}
  },
  {
   "cell_type": "code",
   "execution_count": 52,
   "source": [
    "pals = v.loc[v[kodikos_paraggelias].str.startswith('PAL', na=False)][kodikos_arxikis_paraggelias]\r\n",
    "pals"
   ],
   "outputs": [
    {
     "output_type": "execute_result",
     "data": {
      "text/plain": [
       "0      W130039\n",
       "2      W130023\n",
       "9      W130043\n",
       "12     W130042\n",
       "14     W130032\n",
       "        ...   \n",
       "296    W130540\n",
       "300    W130562\n",
       "302    W130561\n",
       "304    W130556\n",
       "306    W130539\n",
       "Name: Κωδικός_Αρχικής_Παραγγελίας, Length: 116, dtype: object"
      ]
     },
     "metadata": {},
     "execution_count": 52
    }
   ],
   "metadata": {}
  },
  {
   "cell_type": "code",
   "execution_count": 53,
   "source": [
    "result = must_pals.merge(pals, how='left', left_on=kodikos_paraggelias, right_on=kodikos_arxikis_paraggelias)"
   ],
   "outputs": [],
   "metadata": {}
  },
  {
   "cell_type": "code",
   "execution_count": 56,
   "source": [
    "result.loc[result[kodikos_arxikis_paraggelias].isna(), kodikos_paraggelias]"
   ],
   "outputs": [
    {
     "output_type": "execute_result",
     "data": {
      "text/plain": [
       "15     W130095\n",
       "32     W130180\n",
       "38     W130193\n",
       "49     W130230\n",
       "84     W130413\n",
       "117    W130543\n",
       "Name: Κωδικός_Παραγγελίας, dtype: object"
      ]
     },
     "metadata": {},
     "execution_count": 56
    }
   ],
   "metadata": {}
  }
 ],
 "metadata": {
  "orig_nbformat": 4,
  "language_info": {
   "name": "python",
   "version": "3.8.12",
   "mimetype": "text/x-python",
   "codemirror_mode": {
    "name": "ipython",
    "version": 3
   },
   "pygments_lexer": "ipython3",
   "nbconvert_exporter": "python",
   "file_extension": ".py"
  },
  "kernelspec": {
   "name": "python3",
   "display_name": "Python 3.8.12 64-bit ('atakl_dev': conda)"
  },
  "interpreter": {
   "hash": "2c1aa577872f88f169d17bfe33b6b30cfbb718b1b8f65060fd4468a214436a3c"
  }
 },
 "nbformat": 4,
 "nbformat_minor": 2
}