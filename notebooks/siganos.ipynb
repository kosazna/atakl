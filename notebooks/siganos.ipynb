{
 "cells": [
  {
   "cell_type": "code",
   "execution_count": 1,
   "metadata": {},
   "outputs": [],
   "source": [
    "from atakl.transform.siganos import *"
   ]
  },
  {
   "cell_type": "code",
   "execution_count": 2,
   "metadata": {},
   "outputs": [],
   "source": [
    "beth_file = \"D:/.temp/.dev/akl/Σιγανός_Ιούλιος.xlsx\"\n",
    "filename = Path(beth_file).stem\n",
    "\n",
    "a = Siganos(f\"{beth_file}@Διανομή\",\n",
    "            \"D:/.temp/.dev/akl/Region_Costs.xlsx\",\n",
    "            f\"D:/.temp/.dev/akl/{filename}_Processed.xlsx\",\n",
    "            mode=\"CLI\")\n",
    "\n",
    "og = pd.read_excel(beth_file, sheet_name='Διανομή')[[\"Κωδικός Παραγγελίας\", \"ΧΡΕΩΣΗ ΔΙΑΝΟΜΗΣ ΚΟΛΑ\"]]\n"
   ]
  },
  {
   "cell_type": "code",
   "execution_count": 3,
   "metadata": {},
   "outputs": [
    {
     "name": "stdout",
     "output_type": "stream",
     "text": [
      "[WARNING] - [Τεμάχια] contains [4] values over 2\n",
      "[INFO] - Index: 4-8-18-31\n",
      "\n",
      "\n",
      "\n",
      "[WARNING] - Order not starting with PAL contains [Τεμάχια] - Count: 1\n",
      "[INFO] - Index: 18\n",
      "\n"
     ]
    }
   ],
   "source": [
    "a.validate()"
   ]
  },
  {
   "cell_type": "code",
   "execution_count": 4,
   "metadata": {},
   "outputs": [
    {
     "name": "stdout",
     "output_type": "stream",
     "text": [
      "[INFO] - Processing...\n",
      "\n",
      "\n",
      "\n",
      "\n",
      "[INFO] - Data Process Complete: [91] records\n",
      "\n",
      "\n",
      "[INFO] - Saving data...\n",
      "[INFO] - Exported file: D:/.temp/.dev/akl/Σιγανός_Ιούλιος_Processed.xlsx\n",
      "\n",
      "\n"
     ]
    }
   ],
   "source": [
    "a.process()\n",
    "a.export()"
   ]
  },
  {
   "cell_type": "code",
   "execution_count": 5,
   "metadata": {},
   "outputs": [],
   "source": [
    "merged = a.check_data.merge(og, left_on=\"Κωδικός_Παραγγελίας\", right_on=\"Κωδικός Παραγγελίας\").drop([\"Κωδικός Παραγγελίας\"], axis=1).rename(columns={\"ΧΡΕΩΣΗ ΔΙΑΝΟΜΗΣ ΚΟΛΑ\": \"Bethani\"})\n",
    "merged['diff'] = merged['Bethani'] - merged[kola_dist_charge]\n",
    "merged['diff'] = merged['diff'].round(2)\n",
    "merged.to_excel(f\"D:/.temp/.dev/akl/{filename}_Check.xlsx\")"
   ]
  }
 ],
 "metadata": {
  "interpreter": {
   "hash": "2c1aa577872f88f169d17bfe33b6b30cfbb718b1b8f65060fd4468a214436a3c"
  },
  "kernelspec": {
   "display_name": "Python 3.8.12 64-bit ('atakl_dev': conda)",
   "name": "python3"
  },
  "language_info": {
   "codemirror_mode": {
    "name": "ipython",
    "version": 3
   },
   "file_extension": ".py",
   "mimetype": "text/x-python",
   "name": "python",
   "nbconvert_exporter": "python",
   "pygments_lexer": "ipython3",
   "version": "3.8.12"
  },
  "orig_nbformat": 4
 },
 "nbformat": 4,
 "nbformat_minor": 2
}
